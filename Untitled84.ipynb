{
  "nbformat": 4,
  "nbformat_minor": 0,
  "metadata": {
    "colab": {
      "provenance": [],
      "authorship_tag": "ABX9TyNCk3kgUMlnecUfpFFVnbT/",
      "include_colab_link": true
    },
    "kernelspec": {
      "name": "python3",
      "display_name": "Python 3"
    },
    "language_info": {
      "name": "python"
    }
  },
  "cells": [
    {
      "cell_type": "markdown",
      "metadata": {
        "id": "view-in-github",
        "colab_type": "text"
      },
      "source": [
        "<a href=\"https://colab.research.google.com/github/Ronbragaglia/ColabPython/blob/main/Untitled84.ipynb\" target=\"_parent\"><img src=\"https://colab.research.google.com/assets/colab-badge.svg\" alt=\"Open In Colab\"/></a>"
      ]
    },
    {
      "cell_type": "code",
      "execution_count": 1,
      "metadata": {
        "colab": {
          "base_uri": "https://localhost:8080/"
        },
        "id": "mWCBzJmB91xV",
        "outputId": "142f7486-ba05-4651-91ae-52f111aa2792"
      },
      "outputs": [
        {
          "output_type": "stream",
          "name": "stdout",
          "text": [
            "Dados dos episódios:\n",
            "         homer_funny  homer_lazy  homer_eats\n",
            "episode                                     \n",
            "E01                5           2           5\n",
            "E02                4           3           4\n",
            "E03                4           3           3\n",
            "E04                3           5           2\n",
            "E05                5           4           5\n",
            "\n",
            "Matriz de similaridade:\n",
            "episode       E01       E02       E03       E04       E05\n",
            "episode                                                  \n",
            "E01      1.000000  0.977618  0.956858  0.772644  0.971537\n",
            "E02      0.977618  1.000000  0.990992  0.886716  0.999630\n",
            "E03      0.956858  0.990992  1.000000  0.918085  0.992171\n",
            "E04      0.772644  0.886716  0.918085  1.000000  0.898563\n",
            "E05      0.971537  0.999630  0.992171  0.898563  1.000000\n",
            "\n",
            "Episódios recomendados para 'E01':\n",
            "episode\n",
            "E02    0.977618\n",
            "E05    0.971537\n",
            "E03    0.956858\n",
            "Name: E01, dtype: float64\n"
          ]
        }
      ],
      "source": [
        "\n",
        "import pandas as pd\n",
        "import numpy as np\n",
        "from sklearn.metrics.pairwise import cosine_similarity\n",
        "\n",
        "data = {\n",
        "    'episode': ['E01', 'E02', 'E03', 'E04', 'E05'],\n",
        "    'homer_funny': [5, 4, 4, 3, 5],\n",
        "    'homer_lazy': [2, 3, 3, 5, 4],\n",
        "    'homer_eats': [5, 4, 3, 2, 5]\n",
        "}\n",
        "\n",
        "df = pd.DataFrame(data)\n",
        "df.set_index('episode', inplace=True)\n",
        "\n",
        "print(\"Dados dos episódios:\")\n",
        "print(df)\n",
        "\n",
        "similarity_matrix = cosine_similarity(df)\n",
        "similarity_df = pd.DataFrame(similarity_matrix, index=df.index, columns=df.index)\n",
        "\n",
        "print(\"\\nMatriz de similaridade:\")\n",
        "print(similarity_df)\n",
        "\n",
        "def recommend_episodes(episode, num_recommendations=3):\n",
        "    # Verifica se o episódio está no DataFrame\n",
        "    if episode not in similarity_df.index:\n",
        "        return \"Episódio não encontrado.\"\n",
        "\n",
        "    similar_episodes = similarity_df[episode].sort_values(ascending=False)\n",
        "\n",
        "    similar_episodes = similar_episodes.drop(episode)\n",
        "\n",
        "    return similar_episodes.head(num_recommendations)\n",
        "\n",
        "episode_to_recommend = 'E01'\n",
        "recommendations = recommend_episodes(episode_to_recommend, 3)\n",
        "\n",
        "print(f\"\\nEpisódios recomendados para '{episode_to_recommend}':\")\n",
        "print(recommendations)"
      ]
    }
  ]
}