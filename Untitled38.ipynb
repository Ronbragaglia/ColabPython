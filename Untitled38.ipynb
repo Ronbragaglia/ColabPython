{
  "nbformat": 4,
  "nbformat_minor": 0,
  "metadata": {
    "colab": {
      "provenance": [],
      "authorship_tag": "ABX9TyOFdym9kpy6ItwRq/OZ1Xx3",
      "include_colab_link": true
    },
    "kernelspec": {
      "name": "python3",
      "display_name": "Python 3"
    },
    "language_info": {
      "name": "python"
    }
  },
  "cells": [
    {
      "cell_type": "markdown",
      "metadata": {
        "id": "view-in-github",
        "colab_type": "text"
      },
      "source": [
        "<a href=\"https://colab.research.google.com/github/Ronbragaglia/ColabPython/blob/main/Untitled38.ipynb\" target=\"_parent\"><img src=\"https://colab.research.google.com/assets/colab-badge.svg\" alt=\"Open In Colab\"/></a>"
      ]
    },
    {
      "cell_type": "code",
      "execution_count": null,
      "metadata": {
        "colab": {
          "base_uri": "https://localhost:8080/"
        },
        "id": "v3cSnF55NHAW",
        "outputId": "5451ab7c-ac83-4b7a-a5dc-24e8b4d5a443"
      },
      "outputs": [
        {
          "output_type": "stream",
          "name": "stdout",
          "text": [
            "Digite o caminho do arquivo .txt: fotos\n",
            "O arquivo 'fotos' não foi encontrado.\n"
          ]
        }
      ],
      "source": [
        "def contar_palavras(nome_arquivo):\n",
        "    try:\n",
        "        with open(nome_arquivo, 'r') as arquivo:\n",
        "            conteudo = arquivo.read()\n",
        "            palavras = conteudo.split()\n",
        "            return len(palavras)\n",
        "    except FileNotFoundError:\n",
        "        print(f\"O arquivo '{nome_arquivo}' não foi encontrado.\")\n",
        "        return -1\n",
        "nome_arquivo = input(\"Digite o caminho do arquivo .txt: \")\n",
        "total_palavras = contar_palavras(nome_arquivo)\n",
        "if total_palavras != -1:\n",
        "    print(f\"O arquivo '{nome_arquivo}' contém {total_palavras} palavras.\")"
      ]
    }
  ]
}