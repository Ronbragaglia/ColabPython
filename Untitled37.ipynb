{
  "nbformat": 4,
  "nbformat_minor": 0,
  "metadata": {
    "colab": {
      "provenance": [],
      "include_colab_link": true
    },
    "kernelspec": {
      "name": "python3",
      "display_name": "Python 3"
    },
    "language_info": {
      "name": "python"
    }
  },
  "cells": [
    {
      "cell_type": "markdown",
      "metadata": {
        "id": "view-in-github",
        "colab_type": "text"
      },
      "source": [
        "<a href=\"https://colab.research.google.com/github/Ronbragaglia/ColabPython/blob/main/Untitled37.ipynb\" target=\"_parent\"><img src=\"https://colab.research.google.com/assets/colab-badge.svg\" alt=\"Open In Colab\"/></a>"
      ]
    },
    {
      "cell_type": "code",
      "execution_count": null,
      "metadata": {
        "colab": {
          "base_uri": "https://localhost:8080/"
        },
        "id": "9B1cniuWMOfQ",
        "outputId": "ddf3ca39-0770-446f-bf93-ec6449e08a3a"
      },
      "outputs": [
        {
          "output_type": "stream",
          "name": "stdout",
          "text": [
            "Digite uma palavra para verificar se é um palíndromo: buceta\n",
            "A palavra não é um palíndromo.\n"
          ]
        }
      ],
      "source": [
        "def eh_palindromo(palavra):\n",
        "    palavra = palavra.replace(\" \", \"\").lower()\n",
        "    return palavra == palavra[::-1]\n",
        "\n",
        "palavra = input(\"Digite uma palavra para verificar se é um palíndromo: \")\n",
        "if eh_palindromo(palavra):\n",
        "    print(\"A palavra é um palíndromo!\")\n",
        "else:\n",
        "    print(\"A palavra não é um palíndromo.\")"
      ]
    }
  ]
}