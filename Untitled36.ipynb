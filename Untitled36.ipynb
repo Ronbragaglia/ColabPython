{
  "cells": [
    {
      "cell_type": "markdown",
      "metadata": {
        "id": "view-in-github",
        "colab_type": "text"
      },
      "source": [
        "<a href=\"https://colab.research.google.com/github/Ronbragaglia/ColabPython/blob/main/Untitled36.ipynb\" target=\"_parent\"><img src=\"https://colab.research.google.com/assets/colab-badge.svg\" alt=\"Open In Colab\"/></a>"
      ]
    },
    {
      "cell_type": "code",
      "execution_count": null,
      "metadata": {
        "colab": {
          "background_save": true
        },
        "id": "gqRckQfUJrgV"
      },
      "outputs": [],
      "source": [
        "import re\n",
        "\n",
        "def validar_senha(senha):\n",
        "    # Dicionários para cada tipo de caractere\n",
        "    caracteres = {\n",
        "        'maiúsculas': 'ABCDEFGHIJKLMNOPQRSTUVWXYZ',\n",
        "        'minúsculas': 'abcdefghijklmnopqrstuvwxyz',\n",
        "        'números': '0123456789',\n",
        "        'especiais': '!@#$%^&*()_+-=[]{}|;:,.<>?'\n",
        "    }\n",
        "\n",
        "    # Verificar comprimento mínimo da senha\n",
        "    if len(senha) < 8:\n",
        "        return False\n",
        "\n",
        "    # Verificar a presença de pelo menos um caractere de cada tipo\n",
        "    for tipo, conjunto in caracteres.items():\n",
        "        if not any(c in conjunto for c in senha):\n",
        "            return False\n",
        "\n",
        "    return True\n",
        "\n",
        "def main():\n",
        "    senha = input(\"Digite sua senha: \")\n",
        "\n",
        "    if validar_senha(senha):\n",
        "        print(\"Senha forte!\")\n",
        "    else:\n",
        "        print(\"Senha fraca!\")\n",
        "\n",
        "if __name__ == \"__main__\":\n",
        "    main()"
      ]
    }
  ],
  "metadata": {
    "colab": {
      "provenance": [],
      "include_colab_link": true
    },
    "kernelspec": {
      "display_name": "Python 3",
      "name": "python3"
    },
    "language_info": {
      "name": "python"
    }
  },
  "nbformat": 4,
  "nbformat_minor": 0
}