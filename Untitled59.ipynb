{
  "nbformat": 4,
  "nbformat_minor": 0,
  "metadata": {
    "colab": {
      "provenance": [],
      "authorship_tag": "ABX9TyNxXnJh5w6HEUlE478OpL/u",
      "include_colab_link": true
    },
    "kernelspec": {
      "name": "python3",
      "display_name": "Python 3"
    },
    "language_info": {
      "name": "python"
    }
  },
  "cells": [
    {
      "cell_type": "markdown",
      "metadata": {
        "id": "view-in-github",
        "colab_type": "text"
      },
      "source": [
        "<a href=\"https://colab.research.google.com/github/Ronbragaglia/ColabPython/blob/main/Untitled59.ipynb\" target=\"_parent\"><img src=\"https://colab.research.google.com/assets/colab-badge.svg\" alt=\"Open In Colab\"/></a>"
      ]
    },
    {
      "cell_type": "code",
      "execution_count": 3,
      "metadata": {
        "colab": {
          "base_uri": "https://localhost:8080/"
        },
        "id": "dt2ye0w_yp-m",
        "outputId": "6a2d1c4f-527f-42a4-ed73-5d7a7b49115a"
      },
      "outputs": [
        {
          "output_type": "stream",
          "name": "stdout",
          "text": [
            "Avaliações encontradas: ['★★★★★', '★', '★★★']\n"
          ]
        }
      ],
      "source": [
        "import re\n",
        "\n",
        "opinioes = [\n",
        "    \"Adorei o produto! Cinco estrelas! ★★★★★\",\n",
        "    \"Horrível, nunca mais compro. ★\",\n",
        "    \"Bom, mas poderia ser melhor. ★★★\"\n",
        "]\n",
        "\n",
        "avaliacoes = []\n",
        "\n",
        "for opiniao in opinioes:\n",
        "    avaliacao = re.findall(r'[★☆]+', opiniao)\n",
        "    avaliacoes.extend(avaliacao)\n",
        "\n",
        "print(\"Avaliações encontradas:\", avaliacoes)"
      ]
    },
    {
      "cell_type": "code",
      "source": [
        "import re\n",
        "\n",
        "opinioes = [\n",
        "    \"Excelente serviço, muito atenciosos!\",\n",
        "    \"Péssimo atendimento, não recomendo.\",\n",
        "    \"Estou satisfeito com a compra, recomendo a todos\"\n",
        "]\n",
        "\n",
        "positivas = [\"excelente\", \"ótimo\", \"maravilhoso\", \"bom\"]\n",
        "negativas = [\"péssimo\", \"ruim\", \"horrível\", \"desagradável\"]\n",
        "\n",
        "for opiniao in opinioes:\n",
        "    for palavra in positivas:\n",
        "        if re.search(r'\\b{}\\b'.format(palavra), opiniao.lower()):\n",
        "            print(\"Sentimento positivo detectado na seguinte opinião:\", opiniao)\n",
        "            break\n",
        "    for palavra in negativas:\n",
        "        if re.search(r'\\b{}\\b'.format(palavra), opiniao.lower()):\n",
        "            print(\"Sentimento negativo detectado na seguinte opinião:\", opiniao)\n",
        "            break"
      ],
      "metadata": {
        "colab": {
          "base_uri": "https://localhost:8080/"
        },
        "id": "rAak7qTY00FP",
        "outputId": "b18aa4cc-28ec-4aa3-b2fc-3e65dadc002c"
      },
      "execution_count": 4,
      "outputs": [
        {
          "output_type": "stream",
          "name": "stdout",
          "text": [
            "Sentimento positivo detectado na seguinte opinião: Excelente serviço, muito atenciosos!\n",
            "Sentimento negativo detectado na seguinte opinião: Péssimo atendimento, não recomendo.\n"
          ]
        }
      ]
    },
    {
      "cell_type": "code",
      "source": [
        "import re\n",
        "\n",
        "opinioes = [\n",
        "    \"Entrega rápida e produto de qualidade.\",\n",
        "    \"Bom preço e atendimento atencioso.\",\n",
        "    \"Produto excelente, mas a entrega demorou.\"\n",
        "]\n",
        "\n",
        "mencoes_entrega_rapida = []\n",
        "caracteristicas = []\n",
        "\n",
        "for opiniao in opinioes:\n",
        "    if re.search(r'entrega rápida', opiniao.lower()):\n",
        "        mencoes_entrega_rapida.append(opiniao)\n",
        "    if re.search(r'bom preço', opiniao.lower()):\n",
        "        caracteristicas.append(\"bom preço\")\n",
        "    if re.search(r'bom atendimento', opiniao.lower()):\n",
        "        caracteristicas.append(\"bom atendimento\")\n",
        "\n",
        "print(\"Menções de entrega rápida:\", mencoes_entrega_rapida)\n",
        "print(\"Características mencionadas:\", caracteristicas)"
      ],
      "metadata": {
        "colab": {
          "base_uri": "https://localhost:8080/"
        },
        "id": "_vlbsiDe07je",
        "outputId": "c5a27632-a2a6-4de5-d680-c0b1b90097d5"
      },
      "execution_count": 5,
      "outputs": [
        {
          "output_type": "stream",
          "name": "stdout",
          "text": [
            "Menções de entrega rápida: ['Entrega rápida e produto de qualidade.']\n",
            "Características mencionadas: ['bom preço']\n"
          ]
        }
      ]
    }
  ]
}