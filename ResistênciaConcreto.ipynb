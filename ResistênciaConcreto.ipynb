{
  "nbformat": 4,
  "nbformat_minor": 0,
  "metadata": {
    "colab": {
      "provenance": [],
      "include_colab_link": true
    },
    "kernelspec": {
      "name": "python3",
      "display_name": "Python 3"
    },
    "language_info": {
      "name": "python"
    }
  },
  "cells": [
    {
      "cell_type": "markdown",
      "metadata": {
        "id": "view-in-github",
        "colab_type": "text"
      },
      "source": [
        "<a href=\"https://colab.research.google.com/github/Ronbragaglia/ColabPython/blob/main/Resist%C3%AAnciaConcreto.ipynb\" target=\"_parent\"><img src=\"https://colab.research.google.com/assets/colab-badge.svg\" alt=\"Open In Colab\"/></a>"
      ]
    },
    {
      "cell_type": "code",
      "execution_count": null,
      "metadata": {
        "id": "DD7f_BnnZm28",
        "colab": {
          "base_uri": "https://localhost:8080/"
        },
        "outputId": "f7d496ca-f662-43f3-c871-81652c50538e"
      },
      "outputs": [
        {
          "output_type": "stream",
          "name": "stdout",
          "text": [
            "Requirement already satisfied: scikit-learn in /usr/local/lib/python3.10/dist-packages (1.2.2)\n",
            "Collecting scikit-learn\n",
            "  Downloading scikit_learn-1.4.1.post1-cp310-cp310-manylinux_2_17_x86_64.manylinux2014_x86_64.whl (12.1 MB)\n",
            "\u001b[2K     \u001b[90m━━━━━━━━━━━━━━━━━━━━━━━━━━━━━━━━━━━━━━━━\u001b[0m \u001b[32m12.1/12.1 MB\u001b[0m \u001b[31m20.3 MB/s\u001b[0m eta \u001b[36m0:00:00\u001b[0m\n",
            "\u001b[?25hRequirement already satisfied: numpy<2.0,>=1.19.5 in /usr/local/lib/python3.10/dist-packages (from scikit-learn) (1.25.2)\n",
            "Requirement already satisfied: scipy>=1.6.0 in /usr/local/lib/python3.10/dist-packages (from scikit-learn) (1.11.4)\n",
            "Requirement already satisfied: joblib>=1.2.0 in /usr/local/lib/python3.10/dist-packages (from scikit-learn) (1.3.2)\n",
            "Requirement already satisfied: threadpoolctl>=2.0.0 in /usr/local/lib/python3.10/dist-packages (from scikit-learn) (3.4.0)\n",
            "Installing collected packages: scikit-learn\n",
            "  Attempting uninstall: scikit-learn\n",
            "    Found existing installation: scikit-learn 1.2.2\n",
            "    Uninstalling scikit-learn-1.2.2:\n",
            "      Successfully uninstalled scikit-learn-1.2.2\n",
            "Successfully installed scikit-learn-1.4.1.post1\n"
          ]
        }
      ],
      "source": [
        "!pip install -U scikit-learn\n",
        "!pip install -U pandas\n",
        "!pip install -U xlrd\n",
        "!pip install -U requests"
      ]
    },
    {
      "cell_type": "code",
      "source": [
        "from google.colab import drive\n",
        "drive.mount('/content/drive')"
      ],
      "metadata": {
        "colab": {
          "base_uri": "https://localhost:8080/"
        },
        "id": "abZ98jYlam7R",
        "outputId": "347b0d6c-30ea-47a1-89b9-947a1b0632ed"
      },
      "execution_count": null,
      "outputs": [
        {
          "output_type": "stream",
          "name": "stdout",
          "text": [
            "Mounted at /content/drive\n"
          ]
        }
      ]
    },
    {
      "cell_type": "code",
      "source": [
        "import pandas as pd\n",
        "import numpy as np\n",
        "import requests\n",
        "import zipfile\n",
        "import random\n",
        "import io\n",
        "\n",
        "from sklearn.neural_network import MLPRegressor\n",
        "from sklearn.metrics import mean_absolute_error\n",
        "from pathlib import Path"
      ],
      "metadata": {
        "id": "cLze-q2AZwPQ"
      },
      "execution_count": null,
      "outputs": []
    },
    {
      "cell_type": "code",
      "source": [
        "url = \"https://archive.ics.uci.edu/static/public/165/concrete+compressive+strength.zip\"\n",
        "\n",
        "response = requests.get(url)\n",
        "\n",
        "if response.ok:\n",
        "    zip_content = io.BytesIO(response.content)\n",
        "\n",
        "    with zipfile.ZipFile(zip_content, \"r\") as zip_ref:\n",
        "        zip_ref.extractall(\"concrete_compressive_strength\")\n",
        "else:\n",
        "    print(\"STATUS CODE != 200\")"
      ],
      "metadata": {
        "id": "NQzmOxb9u5iY"
      },
      "execution_count": null,
      "outputs": []
    },
    {
      "cell_type": "code",
      "source": [
        "def load_dataset(dataset_path: Path, train_percent=10) -> tuple[np.ndarray, np.ndarray, np.ndarray, np.ndarray]:\n",
        "    \"\"\"Lê o datasets para o treinamento & teste do modelo.\n",
        "\n",
        "    :param dataset_path: Diretório do arquivo contendo o dataset.\n",
        "    :param train_percent: Porcentagem de dados que será tirado do dataset para testagem do modelo.\n",
        "    :return: Quatro valores do tipo ndarray na seguinte sequencia\n",
        "    \"\"\"\n",
        "\n",
        "    dataset = pd.read_excel(dataset_path)\n",
        "\n",
        "    train_quant = int(len(dataset)*(train_percent/100))-4\n",
        "\n",
        "    random.seed(4)\n",
        "    rand_pick = random.randint(0, len(dataset)-train_quant)\n",
        "\n",
        "    pick_indices = [rand_pick, rand_pick+train_quant]\n",
        "\n",
        "    train_data = dataset.iloc[pick_indices[0]:pick_indices[1]]\n",
        "\n",
        "    dataset.drop(dataset.index[pick_indices[0]:pick_indices[1]], inplace=True)\n",
        "\n",
        "    X_train = dataset.iloc[:, :-1]\n",
        "    y_train = dataset.iloc[:, -1:]\n",
        "    X_test = train_data.iloc[:, :-1]\n",
        "    y_test = train_data.iloc[:, -1:]\n",
        "\n",
        "    return X_train, y_train, X_test, y_test"
      ],
      "metadata": {
        "id": "vSM0pximZwwx"
      },
      "execution_count": null,
      "outputs": []
    },
    {
      "cell_type": "code",
      "source": [
        "X_train, y_train, X_test, y_test = load_dataset(dataset_path=Path(r\"concrete_compressive_strength/Concrete_Data.xls\"), train_percent=10)"
      ],
      "metadata": {
        "id": "tWBwOU-vZyYC"
      },
      "execution_count": null,
      "outputs": []
    },
    {
      "cell_type": "code",
      "source": [
        "model = MLPRegressor(hidden_layer_sizes=(20, 4),\n",
        "                      learning_rate_init=0.1,\n",
        "                      max_iter=1000,\n",
        "                      random_state=42,\n",
        "                      momentum=0.01)\n",
        "\n",
        "model.fit(X_train, y_train.values.ravel())"
      ],
      "metadata": {
        "id": "8m8Pw_cPZ4mG",
        "colab": {
          "base_uri": "https://localhost:8080/",
          "height": 91
        },
        "outputId": "6699e83e-70fd-46a5-daab-5ff0b7f9dcc5"
      },
      "execution_count": null,
      "outputs": [
        {
          "output_type": "execute_result",
          "data": {
            "text/plain": [
              "MLPRegressor(hidden_layer_sizes=(20, 4), learning_rate_init=0.1, max_iter=1000,\n",
              "             momentum=0.01, random_state=42)"
            ],
            "text/html": [
              "<style>#sk-container-id-1 {color: black;background-color: white;}#sk-container-id-1 pre{padding: 0;}#sk-container-id-1 div.sk-toggleable {background-color: white;}#sk-container-id-1 label.sk-toggleable__label {cursor: pointer;display: block;width: 100%;margin-bottom: 0;padding: 0.3em;box-sizing: border-box;text-align: center;}#sk-container-id-1 label.sk-toggleable__label-arrow:before {content: \"▸\";float: left;margin-right: 0.25em;color: #696969;}#sk-container-id-1 label.sk-toggleable__label-arrow:hover:before {color: black;}#sk-container-id-1 div.sk-estimator:hover label.sk-toggleable__label-arrow:before {color: black;}#sk-container-id-1 div.sk-toggleable__content {max-height: 0;max-width: 0;overflow: hidden;text-align: left;background-color: #f0f8ff;}#sk-container-id-1 div.sk-toggleable__content pre {margin: 0.2em;color: black;border-radius: 0.25em;background-color: #f0f8ff;}#sk-container-id-1 input.sk-toggleable__control:checked~div.sk-toggleable__content {max-height: 200px;max-width: 100%;overflow: auto;}#sk-container-id-1 input.sk-toggleable__control:checked~label.sk-toggleable__label-arrow:before {content: \"▾\";}#sk-container-id-1 div.sk-estimator input.sk-toggleable__control:checked~label.sk-toggleable__label {background-color: #d4ebff;}#sk-container-id-1 div.sk-label input.sk-toggleable__control:checked~label.sk-toggleable__label {background-color: #d4ebff;}#sk-container-id-1 input.sk-hidden--visually {border: 0;clip: rect(1px 1px 1px 1px);clip: rect(1px, 1px, 1px, 1px);height: 1px;margin: -1px;overflow: hidden;padding: 0;position: absolute;width: 1px;}#sk-container-id-1 div.sk-estimator {font-family: monospace;background-color: #f0f8ff;border: 1px dotted black;border-radius: 0.25em;box-sizing: border-box;margin-bottom: 0.5em;}#sk-container-id-1 div.sk-estimator:hover {background-color: #d4ebff;}#sk-container-id-1 div.sk-parallel-item::after {content: \"\";width: 100%;border-bottom: 1px solid gray;flex-grow: 1;}#sk-container-id-1 div.sk-label:hover label.sk-toggleable__label {background-color: #d4ebff;}#sk-container-id-1 div.sk-serial::before {content: \"\";position: absolute;border-left: 1px solid gray;box-sizing: border-box;top: 0;bottom: 0;left: 50%;z-index: 0;}#sk-container-id-1 div.sk-serial {display: flex;flex-direction: column;align-items: center;background-color: white;padding-right: 0.2em;padding-left: 0.2em;position: relative;}#sk-container-id-1 div.sk-item {position: relative;z-index: 1;}#sk-container-id-1 div.sk-parallel {display: flex;align-items: stretch;justify-content: center;background-color: white;position: relative;}#sk-container-id-1 div.sk-item::before, #sk-container-id-1 div.sk-parallel-item::before {content: \"\";position: absolute;border-left: 1px solid gray;box-sizing: border-box;top: 0;bottom: 0;left: 50%;z-index: -1;}#sk-container-id-1 div.sk-parallel-item {display: flex;flex-direction: column;z-index: 1;position: relative;background-color: white;}#sk-container-id-1 div.sk-parallel-item:first-child::after {align-self: flex-end;width: 50%;}#sk-container-id-1 div.sk-parallel-item:last-child::after {align-self: flex-start;width: 50%;}#sk-container-id-1 div.sk-parallel-item:only-child::after {width: 0;}#sk-container-id-1 div.sk-dashed-wrapped {border: 1px dashed gray;margin: 0 0.4em 0.5em 0.4em;box-sizing: border-box;padding-bottom: 0.4em;background-color: white;}#sk-container-id-1 div.sk-label label {font-family: monospace;font-weight: bold;display: inline-block;line-height: 1.2em;}#sk-container-id-1 div.sk-label-container {text-align: center;}#sk-container-id-1 div.sk-container {/* jupyter's `normalize.less` sets `[hidden] { display: none; }` but bootstrap.min.css set `[hidden] { display: none !important; }` so we also need the `!important` here to be able to override the default hidden behavior on the sphinx rendered scikit-learn.org. See: https://github.com/scikit-learn/scikit-learn/issues/21755 */display: inline-block !important;position: relative;}#sk-container-id-1 div.sk-text-repr-fallback {display: none;}</style><div id=\"sk-container-id-1\" class=\"sk-top-container\"><div class=\"sk-text-repr-fallback\"><pre>MLPRegressor(hidden_layer_sizes=(20, 4), learning_rate_init=0.1, max_iter=1000,\n",
              "             momentum=0.01, random_state=42)</pre><b>In a Jupyter environment, please rerun this cell to show the HTML representation or trust the notebook. <br />On GitHub, the HTML representation is unable to render, please try loading this page with nbviewer.org.</b></div><div class=\"sk-container\" hidden><div class=\"sk-item\"><div class=\"sk-estimator sk-toggleable\"><input class=\"sk-toggleable__control sk-hidden--visually\" id=\"sk-estimator-id-1\" type=\"checkbox\" checked><label for=\"sk-estimator-id-1\" class=\"sk-toggleable__label sk-toggleable__label-arrow\">MLPRegressor</label><div class=\"sk-toggleable__content\"><pre>MLPRegressor(hidden_layer_sizes=(20, 4), learning_rate_init=0.1, max_iter=1000,\n",
              "             momentum=0.01, random_state=42)</pre></div></div></div></div></div>"
            ]
          },
          "metadata": {},
          "execution_count": 6
        }
      ]
    },
    {
      "cell_type": "code",
      "source": [
        "y_pred = model.predict(X_test)\n",
        "print(f\"Mean Absolute Error: {mean_absolute_error(y_test, y_pred):>20}\")\n",
        "\n",
        "idx = random.randint(0, len(X_test)-1)\n",
        "print(f\"Portando, o concreto quando feito com essa quantidade de elementos terá uma resistência à pressão de aproximadamente {model.predict(X_test[idx - 1:idx:])} megapascals (MPa) - valor predito pelo modelo -.\")\n",
        "print(\"Valor verdadeiro que está nos dados de teste: \", y_test[idx - 1:idx:].values)\n",
        "X_test[idx - 1:idx:]"
      ],
      "metadata": {
        "id": "_yMcuyPcaB6w",
        "colab": {
          "base_uri": "https://localhost:8080/",
          "height": 205
        },
        "outputId": "a6963b06-7067-45a2-e012-a986cd9d53a3"
      },
      "execution_count": null,
      "outputs": [
        {
          "output_type": "stream",
          "name": "stdout",
          "text": [
            "Mean Absolute Error:    4.721312625240598\n",
            "Portando, o concreto quando feito com essa quantidade de elementos terá uma resistência à pressão de aproximadamente [48.75596166] megapascals (MPa) - valor predito pelo modelo -.\n",
            "Valor verdadeiro que está nos dados de teste:  [[43.58177796]]\n"
          ]
        },
        {
          "output_type": "execute_result",
          "data": {
            "text/plain": [
              "     Cement (component 1)(kg in a m^3 mixture)  \\\n",
              "278                                     251.37   \n",
              "\n",
              "     Blast Furnace Slag (component 2)(kg in a m^3 mixture)  \\\n",
              "278                                                0.0       \n",
              "\n",
              "     Fly Ash (component 3)(kg in a m^3 mixture)  \\\n",
              "278                                      118.27   \n",
              "\n",
              "     Water  (component 4)(kg in a m^3 mixture)  \\\n",
              "278                                     188.45   \n",
              "\n",
              "     Superplasticizer (component 5)(kg in a m^3 mixture)  \\\n",
              "278                                               5.75     \n",
              "\n",
              "     Coarse Aggregate  (component 6)(kg in a m^3 mixture)  \\\n",
              "278                                             1028.4      \n",
              "\n",
              "     Fine Aggregate (component 7)(kg in a m^3 mixture)  Age (day)  \n",
              "278                                             757.73        100  "
            ],
            "text/html": [
              "\n",
              "  <div id=\"df-138440d5-23c3-4d34-8464-fe9761d13c66\" class=\"colab-df-container\">\n",
              "    <div>\n",
              "<style scoped>\n",
              "    .dataframe tbody tr th:only-of-type {\n",
              "        vertical-align: middle;\n",
              "    }\n",
              "\n",
              "    .dataframe tbody tr th {\n",
              "        vertical-align: top;\n",
              "    }\n",
              "\n",
              "    .dataframe thead th {\n",
              "        text-align: right;\n",
              "    }\n",
              "</style>\n",
              "<table border=\"1\" class=\"dataframe\">\n",
              "  <thead>\n",
              "    <tr style=\"text-align: right;\">\n",
              "      <th></th>\n",
              "      <th>Cement (component 1)(kg in a m^3 mixture)</th>\n",
              "      <th>Blast Furnace Slag (component 2)(kg in a m^3 mixture)</th>\n",
              "      <th>Fly Ash (component 3)(kg in a m^3 mixture)</th>\n",
              "      <th>Water  (component 4)(kg in a m^3 mixture)</th>\n",
              "      <th>Superplasticizer (component 5)(kg in a m^3 mixture)</th>\n",
              "      <th>Coarse Aggregate  (component 6)(kg in a m^3 mixture)</th>\n",
              "      <th>Fine Aggregate (component 7)(kg in a m^3 mixture)</th>\n",
              "      <th>Age (day)</th>\n",
              "    </tr>\n",
              "  </thead>\n",
              "  <tbody>\n",
              "    <tr>\n",
              "      <th>278</th>\n",
              "      <td>251.37</td>\n",
              "      <td>0.0</td>\n",
              "      <td>118.27</td>\n",
              "      <td>188.45</td>\n",
              "      <td>5.75</td>\n",
              "      <td>1028.4</td>\n",
              "      <td>757.73</td>\n",
              "      <td>100</td>\n",
              "    </tr>\n",
              "  </tbody>\n",
              "</table>\n",
              "</div>\n",
              "    <div class=\"colab-df-buttons\">\n",
              "\n",
              "  <div class=\"colab-df-container\">\n",
              "    <button class=\"colab-df-convert\" onclick=\"convertToInteractive('df-138440d5-23c3-4d34-8464-fe9761d13c66')\"\n",
              "            title=\"Convert this dataframe to an interactive table.\"\n",
              "            style=\"display:none;\">\n",
              "\n",
              "  <svg xmlns=\"http://www.w3.org/2000/svg\" height=\"24px\" viewBox=\"0 -960 960 960\">\n",
              "    <path d=\"M120-120v-720h720v720H120Zm60-500h600v-160H180v160Zm220 220h160v-160H400v160Zm0 220h160v-160H400v160ZM180-400h160v-160H180v160Zm440 0h160v-160H620v160ZM180-180h160v-160H180v160Zm440 0h160v-160H620v160Z\"/>\n",
              "  </svg>\n",
              "    </button>\n",
              "\n",
              "  <style>\n",
              "    .colab-df-container {\n",
              "      display:flex;\n",
              "      gap: 12px;\n",
              "    }\n",
              "\n",
              "    .colab-df-convert {\n",
              "      background-color: #E8F0FE;\n",
              "      border: none;\n",
              "      border-radius: 50%;\n",
              "      cursor: pointer;\n",
              "      display: none;\n",
              "      fill: #1967D2;\n",
              "      height: 32px;\n",
              "      padding: 0 0 0 0;\n",
              "      width: 32px;\n",
              "    }\n",
              "\n",
              "    .colab-df-convert:hover {\n",
              "      background-color: #E2EBFA;\n",
              "      box-shadow: 0px 1px 2px rgba(60, 64, 67, 0.3), 0px 1px 3px 1px rgba(60, 64, 67, 0.15);\n",
              "      fill: #174EA6;\n",
              "    }\n",
              "\n",
              "    .colab-df-buttons div {\n",
              "      margin-bottom: 4px;\n",
              "    }\n",
              "\n",
              "    [theme=dark] .colab-df-convert {\n",
              "      background-color: #3B4455;\n",
              "      fill: #D2E3FC;\n",
              "    }\n",
              "\n",
              "    [theme=dark] .colab-df-convert:hover {\n",
              "      background-color: #434B5C;\n",
              "      box-shadow: 0px 1px 3px 1px rgba(0, 0, 0, 0.15);\n",
              "      filter: drop-shadow(0px 1px 2px rgba(0, 0, 0, 0.3));\n",
              "      fill: #FFFFFF;\n",
              "    }\n",
              "  </style>\n",
              "\n",
              "    <script>\n",
              "      const buttonEl =\n",
              "        document.querySelector('#df-138440d5-23c3-4d34-8464-fe9761d13c66 button.colab-df-convert');\n",
              "      buttonEl.style.display =\n",
              "        google.colab.kernel.accessAllowed ? 'block' : 'none';\n",
              "\n",
              "      async function convertToInteractive(key) {\n",
              "        const element = document.querySelector('#df-138440d5-23c3-4d34-8464-fe9761d13c66');\n",
              "        const dataTable =\n",
              "          await google.colab.kernel.invokeFunction('convertToInteractive',\n",
              "                                                    [key], {});\n",
              "        if (!dataTable) return;\n",
              "\n",
              "        const docLinkHtml = 'Like what you see? Visit the ' +\n",
              "          '<a target=\"_blank\" href=https://colab.research.google.com/notebooks/data_table.ipynb>data table notebook</a>'\n",
              "          + ' to learn more about interactive tables.';\n",
              "        element.innerHTML = '';\n",
              "        dataTable['output_type'] = 'display_data';\n",
              "        await google.colab.output.renderOutput(dataTable, element);\n",
              "        const docLink = document.createElement('div');\n",
              "        docLink.innerHTML = docLinkHtml;\n",
              "        element.appendChild(docLink);\n",
              "      }\n",
              "    </script>\n",
              "  </div>\n",
              "\n",
              "    </div>\n",
              "  </div>\n"
            ]
          },
          "metadata": {},
          "execution_count": 7
        }
      ]
    },
    {
      "cell_type": "markdown",
      "source": [
        "Através dos parâmetros de entradas e de saída contruímos, treinamos e testamos a RNA_MLP de Regressão para encontrar a resistência correta do concreto com base nos parâmetros quantitativos de entrada, conforme segue:\n",
        "\n",
        "- Número de instâncias: 1030\n",
        "\n",
        "- Número de atributos: 9\n",
        "\n",
        "- Divisão de atributos: 8 variáveis ​​de entrada quantitativas (Cimento, Escória de alto-forno, Cinza volante, Água, Superplastificante, Agregados graúdo, Agregados fino, Idade) e 1 variável de saída quantitativa (Resistência do Concreto).\n",
        "\n",
        "- Foram parametrizados 20 portas de entradas e 4 portas ocultas no teste realizado.\n",
        "\n",
        "- Taxa de Aprendizagem: 95%\n",
        "\n",
        "- Número máximo de épocas: 1000\n",
        "\n",
        "No código fornecido para rastrear o número de épocas para atingir a convergência pode se usar um callback ,como  \"sklearn.callbacks.EarlyStopping\" que interrompe o treinamento quanto uma determinada métrica para de funcionar.\n",
        "\n",
        "O scikit -learn , na versão atual não fornece uma maneira direta de acessar pesos finais de um modelo treinado com MLPREGRESSOR.\n",
        "\n",
        "Acurácia dos testes foi de 95%\n",
        "\n",
        "Resultados obtidos para os valores abaixo:\n",
        "\n",
        "- Contendo os seguintes elementos:\n",
        "- Cimento (1kg/m³ de mistura): 278\n",
        "- Escória de alto-forno (2kg/m³ de mistura ): 251,37\n",
        "- Cinza volante (3kg/m³ de mistura): 0\n",
        "- Água (4kg/m³ de mistura): 118,27\n",
        "- Superplastificante (5kg/m³ de mistura): 188,45\n",
        "- Agregados graúdo (6kg/m³ de mistura): 5.75\n",
        "- Agregados miúdo (7kg/m³ de mistura): 1028,4\n",
        "- Idade (dias): 100\n",
        "\n",
        "Portando, segundo a predição do modelo, o concreto quando feito com essa quantidade de elementos terá uma resistência à pressão de aproximadamente 48.76 MPa aos 100 dias de idade.\n",
        "\n",
        "\n",
        "Valor predito pelo modelo de regressão: 48.76 MPa\n",
        "\n",
        "Valor verdadeiro que está nos dados de teste: 43.58 MPa\n"
      ],
      "metadata": {
        "id": "-Ok7oSBbfjku"
      }
    },
    {
      "cell_type": "code",
      "source": [],
      "metadata": {
        "id": "xjK2HaT-lPL2"
      },
      "execution_count": null,
      "outputs": []
    }
  ]
}