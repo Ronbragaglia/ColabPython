{
  "nbformat": 4,
  "nbformat_minor": 0,
  "metadata": {
    "colab": {
      "provenance": [],
      "include_colab_link": true
    },
    "kernelspec": {
      "name": "python3",
      "display_name": "Python 3"
    },
    "language_info": {
      "name": "python"
    }
  },
  "cells": [
    {
      "cell_type": "markdown",
      "metadata": {
        "id": "view-in-github",
        "colab_type": "text"
      },
      "source": [
        "<a href=\"https://colab.research.google.com/github/Ronbragaglia/ColabPython/blob/main/Untitled34.ipynb\" target=\"_parent\"><img src=\"https://colab.research.google.com/assets/colab-badge.svg\" alt=\"Open In Colab\"/></a>"
      ]
    },
    {
      "cell_type": "code",
      "execution_count": null,
      "metadata": {
        "colab": {
          "base_uri": "https://localhost:8080/"
        },
        "id": "9hQSefcgG0Sq",
        "outputId": "d2550a72-55bf-4e51-ac5b-d42af9bb29a8"
      },
      "outputs": [
        {
          "output_type": "stream",
          "name": "stdout",
          "text": [
            "Escolha pedra, papel, tesoura, lagarto ou spock: lagarto\n",
            "Você escolheu: lagarto\n",
            "O computador escolheu: papel\n",
            "Você ganhou!\n"
          ]
        }
      ],
      "source": [
        "import random\n",
        "\n",
        "def pedra_papel_tesoura_lagarto_spock(jogada_usuario):\n",
        "    opcoes = ['pedra', 'papel', 'tesoura', 'lagarto', 'spock']\n",
        "\n",
        "    jogada_computador = random.choice(opcoes)\n",
        "\n",
        "    print(f\"Você escolheu: {jogada_usuario}\")\n",
        "    print(f\"O computador escolheu: {jogada_computador}\")\n",
        "\n",
        "    if jogada_usuario == jogada_computador:\n",
        "        print(\"Empate!\")\n",
        "    elif (jogada_usuario == 'pedra' and (jogada_computador == 'tesoura' or jogada_computador == 'lagarto')) or \\\n",
        "         (jogada_usuario == 'tesoura' and (jogada_computador == 'papel' or jogada_computador == 'lagarto')) or \\\n",
        "         (jogada_usuario == 'papel' and (jogada_computador == 'pedra' or jogada_computador == 'spock')) or \\\n",
        "         (jogada_usuario == 'lagarto' and (jogada_computador == 'spock' or jogada_computador == 'papel')) or \\\n",
        "         (jogada_usuario == 'spock' and (jogada_computador == 'tesoura' or jogada_computador == 'pedra')):\n",
        "        print(\"Você ganhou!\")\n",
        "    else:\n",
        "        print(\"O computador ganhou!\")\n",
        "\n",
        "jogada_usuario = input(\"Escolha pedra, papel, tesoura, lagarto ou spock: \").lower()\n",
        "\n",
        "opcoes_validas = ['pedra', 'papel', 'tesoura', 'lagarto', 'spock']\n",
        "if jogada_usuario in opcoes_validas:\n",
        "    pedra_papel_tesoura_lagarto_spock(jogada_usuario)\n",
        "else:\n",
        "    print(\"Escolha inválida! Por favor, escolha uma das opções: pedra, papel, tesoura, lagarto ou spock.\")"
      ]
    }
  ]
}