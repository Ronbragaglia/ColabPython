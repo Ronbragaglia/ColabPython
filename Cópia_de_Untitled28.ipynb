{
  "nbformat": 4,
  "nbformat_minor": 0,
  "metadata": {
    "colab": {
      "provenance": [],
      "include_colab_link": true
    },
    "kernelspec": {
      "name": "python3",
      "display_name": "Python 3"
    },
    "language_info": {
      "name": "python"
    }
  },
  "cells": [
    {
      "cell_type": "markdown",
      "metadata": {
        "id": "view-in-github",
        "colab_type": "text"
      },
      "source": [
        "<a href=\"https://colab.research.google.com/github/Ronbragaglia/ColabPython/blob/main/C%C3%B3pia_de_Untitled28.ipynb\" target=\"_parent\"><img src=\"https://colab.research.google.com/assets/colab-badge.svg\" alt=\"Open In Colab\"/></a>"
      ]
    },
    {
      "cell_type": "code",
      "execution_count": 1,
      "metadata": {
        "colab": {
          "base_uri": "https://localhost:8080/"
        },
        "id": "V6gZs6_7k4_l",
        "outputId": "f1d4b6ca-a2d0-413a-9872-d34603e825d6"
      },
      "outputs": [
        {
          "output_type": "stream",
          "name": "stdout",
          "text": [
            "\n",
            "Avaliação do Modelo:\n",
            "              precision    recall  f1-score   support\n",
            "\n",
            "           0       0.83      0.83      0.83       109\n",
            "           1       0.74      0.74      0.74        69\n",
            "\n",
            "    accuracy                           0.80       178\n",
            "   macro avg       0.79      0.79      0.79       178\n",
            "weighted avg       0.80      0.80      0.80       178\n",
            "\n",
            "\n",
            "Matriz de Confusão:\n",
            "[[91 18]\n",
            " [18 51]]\n"
          ]
        }
      ],
      "source": [
        "import pandas as pd\n",
        "import seaborn as sns\n",
        "from sklearn.model_selection import train_test_split\n",
        "from sklearn.ensemble import RandomForestClassifier\n",
        "from sklearn.metrics import classification_report, confusion_matrix\n",
        "\n",
        "def carregar_dados():\n",
        "    return sns.load_dataset('titanic')\n",
        "\n",
        "def pre_processamento(dados):\n",
        "\n",
        "    features = ['fare', 'pclass', 'sex', 'embarked']\n",
        "\n",
        "\n",
        "    dados = dados.dropna(subset=features + ['survived'])\n",
        "\n",
        "    X = dados[features]\n",
        "    y = dados['survived']\n",
        "\n",
        "    X = pd.get_dummies(X, columns=['sex', 'embarked'], drop_first=True)\n",
        "\n",
        "    return X, y\n",
        "\n",
        "def dividir_dados(X, y):\n",
        "    return train_test_split(X, y, test_size=0.2, random_state=42)\n",
        "\n",
        "def treinar_modelo(X_treino, y_treino):\n",
        "    modelo = RandomForestClassifier(n_estimators=100, random_state=42)\n",
        "    modelo.fit(X_treino, y_treino)\n",
        "    return modelo\n",
        "\n",
        "def avaliar_modelo(modelo, X_teste, y_teste):\n",
        "    previsoes = modelo.predict(X_teste)\n",
        "    relatorio_classificacao = classification_report(y_teste, previsoes)\n",
        "    matriz_confusao = confusion_matrix(y_teste, previsoes)\n",
        "\n",
        "    print(\"\\nAvaliação do Modelo:\")\n",
        "    print(relatorio_classificacao)\n",
        "\n",
        "    print(\"\\nMatriz de Confusão:\")\n",
        "    print(matriz_confusao)\n",
        "\n",
        "\n",
        "def main():\n",
        "\n",
        "    dados = carregar_dados()\n",
        "\n",
        "    X, y = pre_processamento(dados)\n",
        "\n",
        "\n",
        "    X_treino, X_teste, y_treino, y_teste = dividir_dados(X, y)\n",
        "\n",
        "\n",
        "    modelo = treinar_modelo(X_treino, y_treino)\n",
        "\n",
        "    avaliar_modelo(modelo, X_teste, y_teste)\n",
        "\n",
        "if __name__ == \"__main__\":\n",
        "\n",
        "    main()"
      ]
    }
  ]
}