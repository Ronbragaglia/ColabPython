{
  "nbformat": 4,
  "nbformat_minor": 0,
  "metadata": {
    "colab": {
      "provenance": [],
      "authorship_tag": "ABX9TyOiLVkGJr4gQcSBrjLi2RQr",
      "include_colab_link": true
    },
    "kernelspec": {
      "name": "python3",
      "display_name": "Python 3"
    },
    "language_info": {
      "name": "python"
    }
  },
  "cells": [
    {
      "cell_type": "markdown",
      "metadata": {
        "id": "view-in-github",
        "colab_type": "text"
      },
      "source": [
        "<a href=\"https://colab.research.google.com/github/Ronbragaglia/ColabPython/blob/main/Untitled61.ipynb\" target=\"_parent\"><img src=\"https://colab.research.google.com/assets/colab-badge.svg\" alt=\"Open In Colab\"/></a>"
      ]
    },
    {
      "cell_type": "code",
      "execution_count": 4,
      "metadata": {
        "colab": {
          "base_uri": "https://localhost:8080/"
        },
        "id": "ILT5RFnLvtzA",
        "outputId": "8f256d8e-d5f3-4302-85ba-91f85c55a3f3"
      },
      "outputs": [
        {
          "output_type": "stream",
          "name": "stdout",
          "text": [
            "Digite a palavra que deseja buscar nos textos: insulina\n",
            "A palavra 'insulina' foi encontrada no(s) texto(s): Texto 2\n"
          ]
        }
      ],
      "source": [
        "import re\n",
        "\n",
        "texto1 = \"\"\"\n",
        "Agricultura Familiar é a principal responsável pela produção dos\n",
        "alimentos que são disponibilizados para o consumo da população\n",
        "brasileira. É constituída de pequenos produtores rurais, povos e\n",
        "comunidades tradicionais, assentados da reforma agrária,\n",
        "silvicultores, aquicultores, extrativistas e pescadores. O setor se\n",
        "destaca pela produção de milho, raiz de mandioca, pecuária leiteira,\n",
        "gado de corte, ovinos, caprinos, olerícolas, feijão, cana, arroz, suínos,\n",
        "aves, café, trigo, mamona, fruticulturas e hortaliças.Na agricultura\n",
        "familiar a gestão da propriedade é compartilhada pela família e a\n",
        "atividade produtiva agropecuária é a principal fonte geradora de\n",
        "renda. Além disso, o agricultor familiar tem uma relação particular\n",
        "com a terra, seu local de trabalho e moradia. A diversidade produtiva\n",
        "também é uma característica marcante desse setor, pois muitas vezes\n",
        "alia a produção de subsistência a uma produção destinada ao\n",
        "mercado.A Lei 11.326, de 24 de julho de 2006, define as diretrizes\n",
        "para formulação da Política Nacional da Agricultura Familiar e os\n",
        "critérios para identificação desse público. Conforme a legislação, é\n",
        "considerado agricultor familiar e empreendedor familiar rural aquele\n",
        "que pratica atividades no meio rural, possui área de até quatro\n",
        "módulos fiscais, mão de obra da própria família, renda familiar\n",
        "vinculada ao próprio estabelecimento e gerenciamento do\n",
        "estabelecimento ou empreendimento pela própria família. O Censo\n",
        "Agropecuário de 2017, levantamento feito em mais de 5 milhões de\n",
        "propriedades rurais de todo o Brasil, aponta que 77% dos\n",
        "estabelecimentos agrícolas do país foram classificados como da\n",
        "agricultura familiar. Em extensão de área, a agricultura familiar\n",
        "ocupava no período da pesquisa 80,9 milhões de hectares, o que\n",
        "representa 23% da área total dos estabelecimentos agropecuários\n",
        "brasileiros.De acordo com o levantamento, a agricultura familiar\n",
        "empregava mais de 10 milhões de pessoas em setembro de 2017, o\n",
        "que representa 67% do total de pessoas ocupadas na agropecuária. A\n",
        "agricultura familiar também foi responsável por 23% do valor total\n",
        "da produção dos estabelecimentos agropecuários.Conforme o censo,\n",
        "os agricultores familiares têm participação significativa na produção\n",
        "dos alimentos que vão para a mesa dos brasileiros. Nas culturas\n",
        "permanentes, o segmento responde por 48% do valor da produção de\n",
        "café e banana; nas culturas temporárias, são responsáveis por 80%\n",
        "\n",
        "do valor de produção da mandioca, 69% do abacaxi e 42% da\n",
        "produção do feijão.\n",
        "\"\"\"\n",
        "\n",
        "texto2 = \"\"\"\n",
        "Diabetes é uma doença causada pela falta ou má absorção de\n",
        "insulina, hormônio que promove o aproveitamento da glicose como\n",
        "energia para o nosso corpo.Diabetes mellitus é uma doença do\n",
        "metabolismo da glicose causada pela falta ou má absorção de insulina,\n",
        "hormônio produzido pelo pâncreas e cuja função é quebrar as\n",
        "moléculas de glicose para transformá-las em energia, a fim de que seja\n",
        "aproveitada por todas as células. A ausência total ou parcial desse\n",
        "hormônio interfere não só na queima do açúcar como na sua\n",
        "transformação em outras substâncias (proteínas, músculos e\n",
        "gordura).Veja também: Série de dicas em vídeo sobre diabetes com\n",
        "o dr. DrauzioNa verdade, não se trata de uma doença única, mas de\n",
        "um conjunto de doenças com uma característica em comum: aumento\n",
        "da concentração de glicose no sangue provocado por duas diferentes\n",
        "situações:Diabetes tipo 1: O pâncreas produz pouca ou nenhuma\n",
        "insulina. A instalação da doença ocorre mais na infância e\n",
        "adolescência e é insulinodependente, isto é, exige a aplicação de\n",
        "injeções diárias de insulina.\n",
        "\"\"\"\n",
        "\n",
        "palavra_busca = input(\"Digite a palavra que deseja buscar nos textos: \")\n",
        "\n",
        "resultados = []\n",
        "\n",
        "if re.search(palavra_busca, texto1):\n",
        "    resultados.append(\"Texto 1\")\n",
        "\n",
        "if re.search(palavra_busca, texto2):\n",
        "    resultados.append(\"Texto 2\")\n",
        "\n",
        "if resultados:\n",
        "    print(f\"A palavra '{palavra_busca}' foi encontrada no(s) texto(s): {', '.join(resultados)}\")\n",
        "else:\n",
        "    print(f\"A palavra '{palavra_busca}' não foi encontrada nos textos.\")"
      ]
    }
  ]
}